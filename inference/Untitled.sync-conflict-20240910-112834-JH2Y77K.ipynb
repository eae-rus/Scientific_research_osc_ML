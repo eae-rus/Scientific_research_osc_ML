{
 "cells": [
  {
   "cell_type": "code",
   "execution_count": 7,
   "id": "a2734a1a-04c4-4a7b-acb0-cc183bbf109f",
   "metadata": {},
   "outputs": [],
   "source": [
    "from dataset import PQDDataset\n",
    "import torch\n",
    "from torch.utils.data import DataLoader\n",
    "from dataset import PQDDataset\n",
    "from torch.optim import Adam\n",
    "import torch.nn as nn\n",
    "import torch.fft as fft\n",
    "from tqdm.auto import tqdm, trange\n",
    "from sklearn.metrics import f1_score, balanced_accuracy_score\n",
    "import numpy as np\n",
    "import pandas as pd\n",
    "import time\n",
    "import statistics"
   ]
  },
  {
   "cell_type": "code",
   "execution_count": 8,
   "id": "1d5ef378-eece-48fa-9ed2-fdda0b15ee37",
   "metadata": {},
   "outputs": [],
   "source": [
    "device='cpu'"
   ]
  },
  {
   "cell_type": "code",
   "execution_count": 10,
   "id": "087d2f32-80e4-4e02-9c45-49b632e647b0",
   "metadata": {},
   "outputs": [
    {
     "data": {
      "application/vnd.jupyter.widget-view+json": {
       "model_id": "c623690114854d36b99fd0b5309b0b53",
       "version_major": 2,
       "version_minor": 0
      },
      "text/plain": [
       "Creating window slices:   0%|          | 0/13 [00:00<?, ?it/s]"
      ]
     },
     "metadata": {},
     "output_type": "display_data"
    },
    {
     "name": "stdout",
     "output_type": "stream",
     "text": [
      "CONV_NPU(\n",
      "  (conv): Sequential(\n",
      "    (0): Conv2d(5, 40, kernel_size=(1, 3), stride=(1, 1), padding=(0, 1), padding_mode=circular)\n",
      "    (1): ReLU(inplace=True)\n",
      "    (2): MaxPool2d(kernel_size=(1, 2), stride=(1, 2), padding=0, dilation=1, ceil_mode=False)\n",
      "    (3): Conv2d(40, 80, kernel_size=(1, 3), stride=(1, 1), padding=(0, 1), padding_mode=circular)\n",
      "    (4): ReLU(inplace=True)\n",
      "    (5): MaxPool2d(kernel_size=(1, 2), stride=(1, 2), padding=0, dilation=1, ceil_mode=False)\n",
      "  )\n",
      "  (enc_fc): Linear(in_features=640, out_features=80, bias=True)\n",
      "  (out_fc): Linear(in_features=80, out_features=3, bias=True)\n",
      ")\n"
     ]
    },
    {
     "data": {
      "application/vnd.jupyter.widget-view+json": {
       "model_id": "3a390cc2150f49f39b51da9f51ec7c2e",
       "version_major": 2,
       "version_minor": 0
      },
      "text/plain": [
       "  0%|          | 0/17310 [00:00<?, ? batch/s]"
      ]
     },
     "metadata": {},
     "output_type": "display_data"
    },
    {
     "name": "stdout",
     "output_type": "stream",
     "text": [
      "Time of inference is min=0.2346038818359375 ms, avg=0.24938583374023438 ms, max=3.8683414459228516 ms per frame\n"
     ]
    }
   ],
   "source": [
    "test_df = pd.read_csv('test.csv')\n",
    "test_dataset = PQDDataset(\n",
    "                          df=test_df,\n",
    "                          window_size=32,\n",
    "                          target_mode=True\n",
    "                        )\n",
    "\n",
    "model = torch.load(\"cnnt_npu_model_seed42_ep6_tl0.8657.pt\", map_location=device)\n",
    "model.to(device)\n",
    "model.eval()\n",
    "print(model)\n",
    "\n",
    "# speeds = []\n",
    "times = []\n",
    "dataloader = DataLoader(test_dataset, batch_size=1)\n",
    "with torch.no_grad():\n",
    "    with tqdm(dataloader, unit=\" batch\", mininterval=3) as t:\n",
    "        for i, (batch, _) in enumerate(t):\n",
    "\n",
    "            batch = batch.to(device)\n",
    "            batch = batch.permute(0, 2, 1)\n",
    "            batch = batch.unsqueeze(2)\n",
    "\n",
    "            start_time = time.time()\n",
    "            output = model(batch)\n",
    "            times.append(time.time() - start_time)\n",
    "\n",
    "    # end_time = time.time()\n",
    "    # print(f\"Time: {end_time - start_time}\")\n",
    "    # speeds.append(len(test_dataloader) / (end_time - start_time))\n",
    "    # print(f\"Inference speed is {speeds[-1]} frames per second\")\n",
    "\n",
    "# print(f\"Average speed is {np.mean(speeds)} frames per second\")\n",
    "print(\n",
    "    f\"Time of inference is min={min(times[10:])*1000} ms, avg={np.median(times[10:])*1000} ms, max={max(times[10:])*1000} ms per frame\"\n",
    ")"
   ]
  },
  {
   "cell_type": "code",
   "execution_count": 4,
   "id": "ebcdb51d-1c82-4ce6-bb16-d7abd22bc453",
   "metadata": {},
   "outputs": [
    {
     "data": {
      "text/plain": [
       "0.2448558807373047"
      ]
     },
     "execution_count": 4,
     "metadata": {},
     "output_type": "execute_result"
    }
   ],
   "source": [
    "statistics.median(times) * 1000"
   ]
  },
  {
   "cell_type": "code",
   "execution_count": 5,
   "id": "d77ed886-4750-4f8b-a9f8-ddfa1d61c103",
   "metadata": {},
   "outputs": [
    {
     "data": {
      "text/plain": [
       "0.3120899200439453"
      ]
     },
     "execution_count": 5,
     "metadata": {},
     "output_type": "execute_result"
    }
   ],
   "source": [
    "statistics.quantiles(times,n=100)[-1] * 1000"
   ]
  },
  {
   "cell_type": "code",
   "execution_count": 6,
   "id": "b93a9ef1-99c6-4a89-975e-1f44a6d489d5",
   "metadata": {},
   "outputs": [
    {
     "data": {
      "text/plain": [
       "2.08"
      ]
     },
     "execution_count": 6,
     "metadata": {},
     "output_type": "execute_result"
    }
   ],
   "source": [
    "0.57+0.53+0.51+0.47"
   ]
  },
  {
   "cell_type": "code",
   "execution_count": 30,
   "id": "e9952d8d-f0ea-442a-ae4c-5e33b5ee1e07",
   "metadata": {},
   "outputs": [
    {
     "data": {
      "text/plain": [
       "0.52"
      ]
     },
     "execution_count": 30,
     "metadata": {},
     "output_type": "execute_result"
    }
   ],
   "source": [
    "2.08/ 4"
   ]
  },
  {
   "cell_type": "code",
   "execution_count": null,
   "id": "ce6ca812-3c94-48bc-ad6e-4c81a8804bec",
   "metadata": {},
   "outputs": [],
   "source": []
  }
 ],
 "metadata": {
  "kernelspec": {
   "display_name": "Python 3 (ipykernel)",
   "language": "python",
   "name": "python3"
  },
  "language_info": {
   "codemirror_mode": {
    "name": "ipython",
    "version": 3
   },
   "file_extension": ".py",
   "mimetype": "text/x-python",
   "name": "python",
   "nbconvert_exporter": "python",
   "pygments_lexer": "ipython3",
   "version": "3.11.7"
  }
 },
 "nbformat": 4,
 "nbformat_minor": 5
}
