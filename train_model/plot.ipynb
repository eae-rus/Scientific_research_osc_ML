{
 "cells": [
  {
   "cell_type": "code",
   "execution_count": 1,
   "id": "c1c1d6d8-b16b-44ce-9de6-5cf38d6f52e6",
   "metadata": {},
   "outputs": [],
   "source": [
    "import pandas as pd\n",
    "import numpy as np\n",
    "from pqd_dataset import PQDDataset\n",
    "from sklearn.utils.class_weight import compute_class_weight\n",
    "import torch\n",
    "import torch.nn as nn\n",
    "from torch.utils.data import DataLoader\n",
    "from torch.optim import Adam\n",
    "from tqdm.auto import tqdm, trange\n",
    "from pqd_trainer import train_model, train_ae_model, evaluate_model, evaluate_ae_model\n",
    "from models.conv_mlp import CONV_MLP\n",
    "from models.conv_ae_mlp import CONV_AE_MLP\n",
    "from sklearn.metrics import f1_score, balanced_accuracy_score\n",
    "import random\n",
    "import os"
   ]
  },
  {
   "cell_type": "code",
   "execution_count": 2,
   "id": "7a54c6a1-5379-4a4c-a203-805d27c62e6e",
   "metadata": {},
   "outputs": [],
   "source": [
    "window_size = 32\n",
    "stride = 100\n",
    "target_mode = True\n",
    "epochs=100\n",
    "batch_size=32\n",
    "lr = 0.0005"
   ]
  },
  {
   "cell_type": "code",
   "execution_count": 3,
   "id": "0846bf7a-cd32-41bb-87a8-ba76434752e6",
   "metadata": {},
   "outputs": [
    {
     "data": {
      "application/vnd.jupyter.widget-view+json": {
       "model_id": "5b573ea1281d4fa7bd7c67e8a465db6f",
       "version_major": 2,
       "version_minor": 0
      },
      "text/plain": [
       "Creating window slices:   0%|          | 0/13 [00:00<?, ?it/s]"
      ]
     },
     "metadata": {},
     "output_type": "display_data"
    }
   ],
   "source": [
    "test_df = pd.read_csv('test.csv')\n",
    "test_dataset = PQDDataset(\n",
    "                            df=test_df,\n",
    "                            window_size=window_size,\n",
    "                            stride=stride,\n",
    "                            target_mode=target_mode\n",
    "                            )"
   ]
  },
  {
   "cell_type": "code",
   "execution_count": 17,
   "id": "11f7ef9b-010e-43d9-9512-4bcf71d5553d",
   "metadata": {},
   "outputs": [],
   "source": [
    "class Encoder(nn.Module):\n",
    "    def __init__(self, autoencoder):\n",
    "        super(Encoder, self).__init__()\n",
    "        self.encoder = autoencoder.conv\n",
    "        self.fc = autoencoder.enc_fc\n",
    "        # Берем все слои энкодера до bottleneck\n",
    "\n",
    "    def forward(self, x):\n",
    "        x = self.encoder(x.permute(0, 2, 1))\n",
    "        x = x.view(x.size(0), -1)\n",
    "        x = self.fc(x)\n",
    "        return x"
   ]
  },
  {
   "cell_type": "code",
   "execution_count": 18,
   "id": "f18c6960-dbf3-49c1-8f32-a76ccc6d0261",
   "metadata": {},
   "outputs": [],
   "source": [
    "dataloader = DataLoader(test_dataset,batch_size=10)"
   ]
  },
  {
   "cell_type": "code",
   "execution_count": 19,
   "id": "bc7eeec0-dabb-45b7-982d-06ae5c78df9f",
   "metadata": {},
   "outputs": [],
   "source": [
    "pretrained_autoencoder = torch.load(\"cnnae_model_seed206_ep93_tl0.9335.pt\")\n",
    "model = Encoder(pretrained_autoencoder)"
   ]
  },
  {
   "cell_type": "code",
   "execution_count": 21,
   "id": "895f4806-d544-4f86-9261-10d005d4914f",
   "metadata": {},
   "outputs": [
    {
     "data": {
      "application/vnd.jupyter.widget-view+json": {
       "model_id": "393a3c4001b5455b8ea3d0c6c8e9105a",
       "version_major": 2,
       "version_minor": 0
      },
      "text/plain": [
       "Step ...:   0%|          | 0/18 [00:00<?, ?it/s]"
      ]
     },
     "metadata": {},
     "output_type": "display_data"
    },
    {
     "ename": "IndexError",
     "evalue": "too many indices for array: array is 1-dimensional, but 2 were indexed",
     "output_type": "error",
     "traceback": [
      "\u001b[0;31m---------------------------------------------------------------------------\u001b[0m",
      "\u001b[0;31mIndexError\u001b[0m                                Traceback (most recent call last)",
      "Cell \u001b[0;32mIn[21], line 13\u001b[0m\n\u001b[1;32m      9\u001b[0m output \u001b[38;5;241m=\u001b[39m model(sample)\u001b[38;5;241m.\u001b[39mnumpy()\n\u001b[1;32m     11\u001b[0m \u001b[38;5;28;01mfor\u001b[39;00m j \u001b[38;5;129;01min\u001b[39;00m \u001b[38;5;28mrange\u001b[39m(batch\u001b[38;5;241m.\u001b[39mshape[\u001b[38;5;241m0\u001b[39m]):\n\u001b[1;32m     12\u001b[0m     \u001b[38;5;66;03m# пишу в первый семпл фрейма а не последний:\u001b[39;00m\n\u001b[0;32m---> 13\u001b[0m     id_of_batch_start \u001b[38;5;241m=\u001b[39m idx[:, \u001b[38;5;241m0\u001b[39m][j]\n\u001b[1;32m     14\u001b[0m     dataset_with_latent\u001b[38;5;241m.\u001b[39mloc[id_of_batch_start, names_of_latent] \u001b[38;5;241m=\u001b[39m (\n\u001b[1;32m     15\u001b[0m         output[j, :]\n\u001b[1;32m     16\u001b[0m     )\n\u001b[1;32m     17\u001b[0m \u001b[38;5;28mprint\u001b[39m(\n\u001b[1;32m     18\u001b[0m     \u001b[38;5;124m\"\u001b[39m\u001b[38;5;124mLine\u001b[39m\u001b[38;5;124m\"\u001b[39m, id_of_batch_start, \u001b[38;5;124m\"\u001b[39m\u001b[38;5;124mfrom\u001b[39m\u001b[38;5;124m\"\u001b[39m, \u001b[38;5;28mlen\u001b[39m(dataset_with_latent) \u001b[38;5;241m-\u001b[39m \u001b[38;5;241m32\u001b[39m\n\u001b[1;32m     19\u001b[0m )\n",
      "\u001b[0;31mIndexError\u001b[0m: too many indices for array: array is 1-dimensional, but 2 were indexed"
     ]
    }
   ],
   "source": [
    "dataset_with_latent = test_dataset.df.copy()\n",
    "names_of_latent = []\n",
    "for i in range(40):\n",
    "    dataset_with_latent[\"l\" + str(i)] = None\n",
    "    names_of_latent.append(\"l\" + str(i))\n",
    "with torch.no_grad():\n",
    "    for sample, target in tqdm(dataloader, desc=\"Step ...\", leave=False):\n",
    "        sample = sample\n",
    "        output = model(sample).numpy()\n",
    "\n",
    "        for j in range(batch.shape[0]):\n",
    "            # пишу в первый семпл фрейма а не последний:\n",
    "            id_of_batch_start = idx[:, 0][j]\n",
    "            dataset_with_latent.loc[id_of_batch_start, names_of_latent] = (\n",
    "                output[j, :]\n",
    "            )\n",
    "        print(\n",
    "            \"Line\", id_of_batch_start, \"from\", len(dataset_with_latent) - 32\n",
    "        )\n",
    "\n",
    "dataset_with_latent.to_csv(\"cluster10.csv\")\n",
    "pass"
   ]
  },
  {
   "cell_type": "code",
   "execution_count": null,
   "id": "f15193c2-1fcf-4b70-9d43-7699fa749bd6",
   "metadata": {},
   "outputs": [],
   "source": []
  }
 ],
 "metadata": {
  "kernelspec": {
   "display_name": "Python 3 (ipykernel)",
   "language": "python",
   "name": "python3"
  },
  "language_info": {
   "codemirror_mode": {
    "name": "ipython",
    "version": 3
   },
   "file_extension": ".py",
   "mimetype": "text/x-python",
   "name": "python",
   "nbconvert_exporter": "python",
   "pygments_lexer": "ipython3",
   "version": "3.11.7"
  }
 },
 "nbformat": 4,
 "nbformat_minor": 5
}
