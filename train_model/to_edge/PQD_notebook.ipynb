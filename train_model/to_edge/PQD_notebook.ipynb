{
 "cells": [
  {
   "cell_type": "code",
   "execution_count": 31,
   "id": "2b51dedd-23de-45da-9755-88e1680b7d4f",
   "metadata": {},
   "outputs": [],
   "source": [
    "import numpy as np\n",
    "import pandas as pd\n",
    "import torch\n",
    "from dataset import PQDDataset\n",
    "from trainer import train_model, evaluate_model\n",
    "from model import CONV_MLP\n",
    "import random\n",
    "import os"
   ]
  },
  {
   "cell_type": "code",
   "execution_count": 20,
   "id": "0fe691dd-e8c5-465b-a442-437132496e01",
   "metadata": {},
   "outputs": [],
   "source": [
    "def seed_everything(seed: int = 42):\n",
    "    \"\"\"\n",
    "    This function is used to maintain repeatability\n",
    "    \"\"\"\n",
    "    random.seed(seed)\n",
    "    os.environ[\"PYTHONHASHSEED\"] = str(seed)\n",
    "    np.random.seed(seed)\n",
    "    torch.manual_seed(seed)\n",
    "    torch.cuda.manual_seed(seed)\n",
    "    torch.backends.cudnn.deterministic = True\n",
    "    torch.backends.cudnn.benchmark = False"
   ]
  },
  {
   "cell_type": "code",
   "execution_count": 23,
   "id": "62daf8a3-135c-4022-9290-85d1400003b0",
   "metadata": {},
   "outputs": [],
   "source": [
    "seed = 42\n",
    "window_size = 32\n",
    "stride = 100\n",
    "target_mode = True\n",
    "epochs=3\n",
    "batch_size=32\n",
    "lr = 0.0005\n",
    "\n",
    "seed_everything(seed)"
   ]
  },
  {
   "cell_type": "code",
   "execution_count": 28,
   "id": "0ae99461-511a-4af5-891a-26fd4fd35198",
   "metadata": {},
   "outputs": [
    {
     "data": {
      "application/vnd.jupyter.widget-view+json": {
       "model_id": "2a884ce48084410e94c6c893553f8a76",
       "version_major": 2,
       "version_minor": 0
      },
      "text/plain": [
       "Creating window slices:   0%|          | 0/66 [00:00<?, ?it/s]"
      ]
     },
     "metadata": {},
     "output_type": "display_data"
    },
    {
     "data": {
      "application/vnd.jupyter.widget-view+json": {
       "model_id": "4df7cace2974458b8fec7728aa17fcde",
       "version_major": 2,
       "version_minor": 0
      },
      "text/plain": [
       "Creating window slices:   0%|          | 0/13 [00:00<?, ?it/s]"
      ]
     },
     "metadata": {},
     "output_type": "display_data"
    },
    {
     "data": {
      "application/vnd.jupyter.widget-view+json": {
       "model_id": "1c8dc2f7ccb84afcbedee92e5777c7eb",
       "version_major": 2,
       "version_minor": 0
      },
      "text/plain": [
       "Creating window slices:   0%|          | 0/495 [00:00<?, ?it/s]"
      ]
     },
     "metadata": {},
     "output_type": "display_data"
    }
   ],
   "source": [
    "train_df = pd.read_csv('train.csv')\n",
    "train_dataset = PQDDataset(\n",
    "                            df=train_df,\n",
    "                            window_size=window_size,\n",
    "                            stride=stride,\n",
    "                            target_mode=target_mode\n",
    "                            )\n",
    "\n",
    "eval_df = pd.read_csv('eval.csv')\n",
    "eval_dataset = PQDDataset(\n",
    "                            df=eval_df,\n",
    "                            window_size=window_size,\n",
    "                            stride=stride,\n",
    "                            target_mode=target_mode\n",
    "                            )\n",
    "\n",
    "test_df = pd.read_csv('test.csv')\n",
    "test_dataset = PQDDataset(\n",
    "                            df=test_df,\n",
    "                            window_size=window_size,\n",
    "                            stride=stride,\n",
    "                            target_mode=target_mode\n",
    "                            )"
   ]
  },
  {
   "cell_type": "code",
   "execution_count": 29,
   "id": "a44fbbe9-9340-4e76-b974-59bdd85355dc",
   "metadata": {},
   "outputs": [],
   "source": [
    "model = CONV_MLP(frame_size=32)"
   ]
  },
  {
   "cell_type": "code",
   "execution_count": 30,
   "id": "7d4531fd-edc0-4be2-b6c2-a26b502c375f",
   "metadata": {},
   "outputs": [
    {
     "data": {
      "application/vnd.jupyter.widget-view+json": {
       "model_id": "",
       "version_major": 2,
       "version_minor": 0
      },
      "text/plain": [
       "Epoch ...:   0%|          | 0/3 [00:00<?, ?it/s]"
      ]
     },
     "metadata": {},
     "output_type": "display_data"
    },
    {
     "data": {
      "application/vnd.jupyter.widget-view+json": {
       "model_id": "",
       "version_major": 2,
       "version_minor": 0
      },
      "text/plain": [
       "Step ...:   0%|          | 0/21 [00:00<?, ?it/s]"
      ]
     },
     "metadata": {},
     "output_type": "display_data"
    },
    {
     "data": {
      "application/vnd.jupyter.widget-view+json": {
       "model_id": "",
       "version_major": 2,
       "version_minor": 0
      },
      "text/plain": [
       "Step ...:   0%|          | 0/6 [00:00<?, ?it/s]"
      ]
     },
     "metadata": {},
     "output_type": "display_data"
    },
    {
     "name": "stdout",
     "output_type": "stream",
     "text": [
      "[0.95686275 0.90909091 0.        ]\n",
      "epoch 0  0.621984551396316\n"
     ]
    },
    {
     "data": {
      "application/vnd.jupyter.widget-view+json": {
       "model_id": "",
       "version_major": 2,
       "version_minor": 0
      },
      "text/plain": [
       "Step ...:   0%|          | 0/21 [00:00<?, ?it/s]"
      ]
     },
     "metadata": {},
     "output_type": "display_data"
    },
    {
     "data": {
      "application/vnd.jupyter.widget-view+json": {
       "model_id": "",
       "version_major": 2,
       "version_minor": 0
      },
      "text/plain": [
       "Step ...:   0%|          | 0/6 [00:00<?, ?it/s]"
      ]
     },
     "metadata": {},
     "output_type": "display_data"
    },
    {
     "name": "stdout",
     "output_type": "stream",
     "text": [
      "[0.97211155 0.91262136 0.        ]\n",
      "epoch 1  0.6282443043360538\n"
     ]
    },
    {
     "data": {
      "application/vnd.jupyter.widget-view+json": {
       "model_id": "",
       "version_major": 2,
       "version_minor": 0
      },
      "text/plain": [
       "Step ...:   0%|          | 0/21 [00:00<?, ?it/s]"
      ]
     },
     "metadata": {},
     "output_type": "display_data"
    },
    {
     "data": {
      "application/vnd.jupyter.widget-view+json": {
       "model_id": "",
       "version_major": 2,
       "version_minor": 0
      },
      "text/plain": [
       "Step ...:   0%|          | 0/6 [00:00<?, ?it/s]"
      ]
     },
     "metadata": {},
     "output_type": "display_data"
    },
    {
     "name": "stdout",
     "output_type": "stream",
     "text": [
      "[0.976      0.90384615 0.        ]\n",
      "epoch 2  0.6266153846153846\n"
     ]
    }
   ],
   "source": [
    "train_model(\n",
    "            model=model,\n",
    "            dataset=train_dataset,\n",
    "            run_seed=seed,\n",
    "            eval_dataset=eval_dataset,\n",
    "            epochs=epochs,\n",
    "            batch_size=batch_size,\n",
    "            lr=lr,\n",
    "            weights=None)"
   ]
  },
  {
   "cell_type": "code",
   "execution_count": 32,
   "id": "09df7316-ce34-48ef-9360-7c10745e273b",
   "metadata": {},
   "outputs": [
    {
     "data": {
      "application/vnd.jupyter.widget-view+json": {
       "model_id": "",
       "version_major": 2,
       "version_minor": 0
      },
      "text/plain": [
       "Step ...:   0%|          | 0/1 [00:00<?, ?it/s]"
      ]
     },
     "metadata": {},
     "output_type": "display_data"
    },
    {
     "name": "stdout",
     "output_type": "stream",
     "text": [
      "[0.94255603 0.73992674 0.02870813]\n",
      "0.5703969692469962\n"
     ]
    }
   ],
   "source": [
    "evaluate_model(model=model,\n",
    "               dataset=test_dataset)"
   ]
  },
  {
   "cell_type": "code",
   "execution_count": null,
   "id": "8b928adf-9c1e-44ce-be8c-c27c4fca371f",
   "metadata": {},
   "outputs": [],
   "source": []
  }
 ],
 "metadata": {
  "kernelspec": {
   "display_name": "Python 3 (ipykernel)",
   "language": "python",
   "name": "python3"
  },
  "language_info": {
   "codemirror_mode": {
    "name": "ipython",
    "version": 3
   },
   "file_extension": ".py",
   "mimetype": "text/x-python",
   "name": "python",
   "nbconvert_exporter": "python",
   "pygments_lexer": "ipython3",
   "version": "3.11.7"
  }
 },
 "nbformat": 4,
 "nbformat_minor": 5
}
