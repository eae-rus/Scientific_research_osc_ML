{
 "cells": [
  {
   "cell_type": "code",
   "execution_count": 1,
   "id": "c1c1d6d8-b16b-44ce-9de6-5cf38d6f52e6",
   "metadata": {},
   "outputs": [],
   "source": [
    "import pandas as pd\n",
    "import numpy as np\n",
    "from pqd_dataset import PQDDataset\n",
    "from sklearn.utils.class_weight import compute_class_weight\n",
    "import torch\n",
    "import torch.nn as nn\n",
    "from torch.utils.data import DataLoader\n",
    "from torch.optim import Adam\n",
    "from tqdm.auto import tqdm, trange\n",
    "from pqd_trainer import train_model, train_ae_model, evaluate_model, evaluate_ae_model, evaluate_npu_model\n",
    "from models.conv_mlp import CONV_MLP\n",
    "from models.conv_ae_mlp import CONV_AE_MLP\n",
    "from sklearn.metrics import f1_score, balanced_accuracy_score\n",
    "import random\n",
    "import os"
   ]
  },
  {
   "cell_type": "code",
   "execution_count": 2,
   "id": "7a54c6a1-5379-4a4c-a203-805d27c62e6e",
   "metadata": {},
   "outputs": [],
   "source": [
    "window_size = 32\n",
    "stride = 1\n",
    "target_mode = True\n",
    "epochs=100\n",
    "batch_size=32\n",
    "lr = 0.0005"
   ]
  },
  {
   "cell_type": "code",
   "execution_count": 3,
   "id": "0846bf7a-cd32-41bb-87a8-ba76434752e6",
   "metadata": {},
   "outputs": [
    {
     "data": {
      "application/vnd.jupyter.widget-view+json": {
       "model_id": "bcbff21173ca4cbab847384ff0ea93b2",
       "version_major": 2,
       "version_minor": 0
      },
      "text/plain": [
       "Creating window slices:   0%|          | 0/495 [00:00<?, ?it/s]"
      ]
     },
     "metadata": {},
     "output_type": "display_data"
    }
   ],
   "source": [
    "test_df = pd.read_csv('unlabeled.csv')\n",
    "test_dataset = PQDDataset(\n",
    "                            df=test_df,\n",
    "                            window_size=window_size,\n",
    "                            stride=stride,\n",
    "                            target_mode=target_mode\n",
    "                            )"
   ]
  },
  {
   "cell_type": "code",
   "execution_count": 4,
   "id": "06e9b1eb-5982-447d-b378-d047a035f15e",
   "metadata": {},
   "outputs": [
    {
     "data": {
      "application/vnd.jupyter.widget-view+json": {
       "model_id": "db09d541c94547fe8e45dcc5cd596054",
       "version_major": 2,
       "version_minor": 0
      },
      "text/plain": [
       "Creating window slices:   0%|          | 0/13 [00:00<?, ?it/s]"
      ]
     },
     "metadata": {},
     "output_type": "display_data"
    }
   ],
   "source": [
    "eval_df = pd.read_csv('test.csv')\n",
    "eval_dataset = PQDDataset(\n",
    "                            df=eval_df,\n",
    "                            window_size=window_size,\n",
    "                            stride=stride,\n",
    "                            target_mode=target_mode\n",
    "                            )"
   ]
  },
  {
   "cell_type": "markdown",
   "id": "aef9f96e-2c48-4bda-831e-8c8b84ab06f1",
   "metadata": {},
   "source": [
    "seed 2"
   ]
  },
  {
   "cell_type": "code",
   "execution_count": 5,
   "id": "5d42f1c9-6d85-44b7-9153-1da84bbf9bbf",
   "metadata": {},
   "outputs": [
    {
     "data": {
      "application/vnd.jupyter.widget-view+json": {
       "model_id": "",
       "version_major": 2,
       "version_minor": 0
      },
      "text/plain": [
       "Step ...:   0%|          | 0/67 [00:00<?, ?it/s]"
      ]
     },
     "metadata": {},
     "output_type": "display_data"
    },
    {
     "name": "stdout",
     "output_type": "stream",
     "text": [
      "[0.99387397 0.90942833 0.77282378]\n",
      "0.8920420276275479\n"
     ]
    }
   ],
   "source": [
    "model = torch.load('compare/cnntrad_model_seed2_ep84_tl0.9003.pt')\n",
    "evaluate_model(model=model, dataset=test_dataset)"
   ]
  },
  {
   "cell_type": "code",
   "execution_count": 6,
   "id": "6716b7f3-93b6-4339-9d7d-d3702edbc169",
   "metadata": {},
   "outputs": [
    {
     "data": {
      "application/vnd.jupyter.widget-view+json": {
       "model_id": "",
       "version_major": 2,
       "version_minor": 0
      },
      "text/plain": [
       "Step ...:   0%|          | 0/67 [00:00<?, ?it/s]"
      ]
     },
     "metadata": {},
     "output_type": "display_data"
    },
    {
     "name": "stdout",
     "output_type": "stream",
     "text": [
      "[0.99349797 0.91382587 0.78025794]\n",
      "0.8958605930615241\n"
     ]
    }
   ],
   "source": [
    "model = torch.load('compare/cnn_model_seed2_ep50_tl0.9076.pt')\n",
    "evaluate_model(model=model, dataset=test_dataset)"
   ]
  },
  {
   "cell_type": "code",
   "execution_count": 21,
   "id": "52586553-630f-4da3-994d-e4f6545ace26",
   "metadata": {},
   "outputs": [
    {
     "data": {
      "application/vnd.jupyter.widget-view+json": {
       "model_id": "",
       "version_major": 2,
       "version_minor": 0
      },
      "text/plain": [
       "Step ...:   0%|          | 0/67 [00:00<?, ?it/s]"
      ]
     },
     "metadata": {},
     "output_type": "display_data"
    },
    {
     "name": "stdout",
     "output_type": "stream",
     "text": [
      "[0.99303647 0.91046837 0.78439834]\n",
      "0.8959677290850858\n"
     ]
    }
   ],
   "source": [
    "model = torch.load('compare/cnn_model_seed2_ep19_tl0.9012.pt')\n",
    "evaluate_model(model=model, dataset=test_dataset)"
   ]
  },
  {
   "cell_type": "code",
   "execution_count": null,
   "id": "5a399696-b6fd-488d-995d-53e6ae648167",
   "metadata": {},
   "outputs": [],
   "source": []
  },
  {
   "cell_type": "code",
   "execution_count": 27,
   "id": "25a07679-f4ea-43a4-ba32-f7c80b4b8375",
   "metadata": {},
   "outputs": [
    {
     "data": {
      "application/vnd.jupyter.widget-view+json": {
       "model_id": "",
       "version_major": 2,
       "version_minor": 0
      },
      "text/plain": [
       "Step ...:   0%|          | 0/67 [00:00<?, ?it/s]"
      ]
     },
     "metadata": {},
     "output_type": "display_data"
    },
    {
     "name": "stdout",
     "output_type": "stream",
     "text": [
      "[0.99356206 0.91247792 0.79251615]\n",
      "0.8995187085948007\n"
     ]
    }
   ],
   "source": [
    "model = torch.load('compare/cnnae_model_seed2_ep62_tl0.9182.pt')\n",
    "evaluate_ae_model(model=model, dataset=test_dataset)"
   ]
  },
  {
   "cell_type": "code",
   "execution_count": null,
   "id": "55ff257d-5094-4045-97f6-8d156be67153",
   "metadata": {},
   "outputs": [],
   "source": []
  },
  {
   "cell_type": "markdown",
   "id": "25d79c4c-225b-4032-abf0-8989d78c1fb4",
   "metadata": {},
   "source": [
    "seed 29"
   ]
  },
  {
   "cell_type": "code",
   "execution_count": 7,
   "id": "03da578c-64cc-4e09-aee0-3e463af470c7",
   "metadata": {},
   "outputs": [
    {
     "data": {
      "application/vnd.jupyter.widget-view+json": {
       "model_id": "",
       "version_major": 2,
       "version_minor": 0
      },
      "text/plain": [
       "Step ...:   0%|          | 0/67 [00:00<?, ?it/s]"
      ]
     },
     "metadata": {},
     "output_type": "display_data"
    },
    {
     "name": "stdout",
     "output_type": "stream",
     "text": [
      "[0.99425036 0.92046376 0.81206419]\n",
      "0.9089261014228595\n"
     ]
    }
   ],
   "source": [
    "model = torch.load('compare/cnntrad_model_seed29_ep100_tl0.9342.pt')\n",
    "evaluate_model(model=model, dataset=test_dataset)"
   ]
  },
  {
   "cell_type": "code",
   "execution_count": 8,
   "id": "98b3b354-f49d-4604-afce-29c835be5b72",
   "metadata": {},
   "outputs": [
    {
     "data": {
      "application/vnd.jupyter.widget-view+json": {
       "model_id": "",
       "version_major": 2,
       "version_minor": 0
      },
      "text/plain": [
       "Step ...:   0%|          | 0/67 [00:00<?, ?it/s]"
      ]
     },
     "metadata": {},
     "output_type": "display_data"
    },
    {
     "name": "stdout",
     "output_type": "stream",
     "text": [
      "[0.99443083 0.92199452 0.80030907]\n",
      "0.9055781378231081\n"
     ]
    }
   ],
   "source": [
    "model = torch.load('compare/cnn_model_seed29_ep95_tl0.9344.pt')\n",
    "evaluate_model(model=model, dataset=test_dataset)"
   ]
  },
  {
   "cell_type": "code",
   "execution_count": 18,
   "id": "476f4e95-4947-42a1-b490-94b7fabc86e3",
   "metadata": {},
   "outputs": [
    {
     "data": {
      "application/vnd.jupyter.widget-view+json": {
       "model_id": "",
       "version_major": 2,
       "version_minor": 0
      },
      "text/plain": [
       "Step ...:   0%|          | 0/67 [00:00<?, ?it/s]"
      ]
     },
     "metadata": {},
     "output_type": "display_data"
    },
    {
     "name": "stdout",
     "output_type": "stream",
     "text": [
      "[0.99347692 0.90659757 0.80124224]\n",
      "0.9004389078078413\n"
     ]
    }
   ],
   "source": [
    "model = torch.load('compare/cnn_model_seed29_ep49_tl0.9296.pt')\n",
    "evaluate_model(model=model, dataset=test_dataset)"
   ]
  },
  {
   "cell_type": "code",
   "execution_count": 23,
   "id": "233aa90e-a3f4-460a-aebb-f5969b2cf2a5",
   "metadata": {},
   "outputs": [
    {
     "data": {
      "application/vnd.jupyter.widget-view+json": {
       "model_id": "",
       "version_major": 2,
       "version_minor": 0
      },
      "text/plain": [
       "Step ...:   0%|          | 0/67 [00:00<?, ?it/s]"
      ]
     },
     "metadata": {},
     "output_type": "display_data"
    },
    {
     "name": "stdout",
     "output_type": "stream",
     "text": [
      "[0.99334658 0.90718466 0.78295979]\n",
      "0.8944970082671276\n"
     ]
    }
   ],
   "source": [
    "model = torch.load('compare/cnn_model_seed29_ep33_tl0.9238.pt')\n",
    "evaluate_model(model=model, dataset=test_dataset)"
   ]
  },
  {
   "cell_type": "code",
   "execution_count": null,
   "id": "3ca6688f-5326-4af1-ba7a-a67fa69c807a",
   "metadata": {},
   "outputs": [],
   "source": []
  },
  {
   "cell_type": "code",
   "execution_count": 28,
   "id": "4a95c804-1d59-45f7-a37a-a701ae485d3f",
   "metadata": {},
   "outputs": [
    {
     "data": {
      "application/vnd.jupyter.widget-view+json": {
       "model_id": "",
       "version_major": 2,
       "version_minor": 0
      },
      "text/plain": [
       "Step ...:   0%|          | 0/67 [00:00<?, ?it/s]"
      ]
     },
     "metadata": {},
     "output_type": "display_data"
    },
    {
     "name": "stdout",
     "output_type": "stream",
     "text": [
      "[0.99351725 0.91507287 0.76895068]\n",
      "0.8925135988464841\n"
     ]
    }
   ],
   "source": [
    "model = torch.load('compare/cnnae_model_seed29_ep99_tl0.9282.pt')\n",
    "evaluate_ae_model(model=model, dataset=test_dataset)"
   ]
  },
  {
   "cell_type": "markdown",
   "id": "9f43b97e-2c00-4a72-8e4e-251d04ac116c",
   "metadata": {},
   "source": [
    "seed 42"
   ]
  },
  {
   "cell_type": "code",
   "execution_count": 10,
   "id": "ce460ac9-2cd9-45a0-bfe9-43537b03fe08",
   "metadata": {},
   "outputs": [
    {
     "data": {
      "application/vnd.jupyter.widget-view+json": {
       "model_id": "",
       "version_major": 2,
       "version_minor": 0
      },
      "text/plain": [
       "Step ...:   0%|          | 0/67 [00:00<?, ?it/s]"
      ]
     },
     "metadata": {},
     "output_type": "display_data"
    },
    {
     "name": "stdout",
     "output_type": "stream",
     "text": [
      "[0.99413406 0.92326158 0.80212347]\n",
      "0.9065063695122162\n"
     ]
    }
   ],
   "source": [
    "model = torch.load('compare/cnntrad_model_seed42_ep69_tl0.9082.pt')\n",
    "evaluate_model(model=model, dataset=test_dataset)"
   ]
  },
  {
   "cell_type": "code",
   "execution_count": 12,
   "id": "364a6644-f366-40eb-995f-58e64ebe51c1",
   "metadata": {},
   "outputs": [
    {
     "data": {
      "application/vnd.jupyter.widget-view+json": {
       "model_id": "",
       "version_major": 2,
       "version_minor": 0
      },
      "text/plain": [
       "Step ...:   0%|          | 0/67 [00:00<?, ?it/s]"
      ]
     },
     "metadata": {},
     "output_type": "display_data"
    },
    {
     "name": "stdout",
     "output_type": "stream",
     "text": [
      "[0.99449971 0.91177069 0.80153715]\n",
      "0.9026025184299803\n"
     ]
    }
   ],
   "source": [
    "model = torch.load('compare/cnn_model_seed42_ep96_tl0.9141.pt')\n",
    "evaluate_model(model=model, dataset=test_dataset)"
   ]
  },
  {
   "cell_type": "code",
   "execution_count": 20,
   "id": "e6eb4fee-2ba9-45af-a706-8a57fc484cdc",
   "metadata": {},
   "outputs": [
    {
     "data": {
      "application/vnd.jupyter.widget-view+json": {
       "model_id": "",
       "version_major": 2,
       "version_minor": 0
      },
      "text/plain": [
       "Step ...:   0%|          | 0/67 [00:00<?, ?it/s]"
      ]
     },
     "metadata": {},
     "output_type": "display_data"
    },
    {
     "name": "stdout",
     "output_type": "stream",
     "text": [
      "[0.99464446 0.92479922 0.81568627]\n",
      "0.9117099848039486\n"
     ]
    }
   ],
   "source": [
    "model = torch.load('compare/cnn_model_seed42_ep53_tl0.9129.pt')\n",
    "evaluate_model(model=model, dataset=test_dataset)"
   ]
  },
  {
   "cell_type": "code",
   "execution_count": null,
   "id": "e6f7837d-0553-441b-9202-e3a05ce2dbcb",
   "metadata": {},
   "outputs": [],
   "source": []
  },
  {
   "cell_type": "code",
   "execution_count": 30,
   "id": "9e8fba71-82ff-4a79-9a25-a4715b4fa142",
   "metadata": {},
   "outputs": [
    {
     "data": {
      "application/vnd.jupyter.widget-view+json": {
       "model_id": "",
       "version_major": 2,
       "version_minor": 0
      },
      "text/plain": [
       "Step ...:   0%|          | 0/67 [00:00<?, ?it/s]"
      ]
     },
     "metadata": {},
     "output_type": "display_data"
    },
    {
     "name": "stdout",
     "output_type": "stream",
     "text": [
      "[0.99397253 0.9063217  0.75652702]\n",
      "0.8856070852441672\n"
     ]
    }
   ],
   "source": [
    "model = torch.load('compare/cnnae_model_seed42_ep24_tl0.8895.pt')\n",
    "evaluate_ae_model(model=model, dataset=test_dataset)"
   ]
  },
  {
   "cell_type": "code",
   "execution_count": null,
   "id": "d2b5346f-8bfa-460e-ab1c-b019f6b1cd01",
   "metadata": {},
   "outputs": [],
   "source": []
  },
  {
   "cell_type": "code",
   "execution_count": 7,
   "id": "cce2cc2c-17e4-4434-97ae-953c2ec88c33",
   "metadata": {},
   "outputs": [
    {
     "data": {
      "application/vnd.jupyter.widget-view+json": {
       "model_id": "",
       "version_major": 2,
       "version_minor": 0
      },
      "text/plain": [
       "Step ...:   0%|          | 0/67 [00:00<?, ?it/s]"
      ]
     },
     "metadata": {},
     "output_type": "display_data"
    },
    {
     "name": "stdout",
     "output_type": "stream",
     "text": [
      "[0.99471963 0.92485878 0.81893076]\n",
      "0.9128363913298684\n"
     ]
    }
   ],
   "source": [
    "#2dcnn\n",
    "model = torch.load('compare/2dcnn.pt')\n",
    "evaluate_npu_model(model=model, dataset=test_dataset)"
   ]
  },
  {
   "cell_type": "code",
   "execution_count": 5,
   "id": "2b4edd49-04dd-40c2-9fb8-73d5ae2b8ce6",
   "metadata": {},
   "outputs": [
    {
     "data": {
      "application/vnd.jupyter.widget-view+json": {
       "model_id": "",
       "version_major": 2,
       "version_minor": 0
      },
      "text/plain": [
       "Step ...:   0%|          | 0/67 [00:00<?, ?it/s]"
      ]
     },
     "metadata": {},
     "output_type": "display_data"
    },
    {
     "name": "stdout",
     "output_type": "stream",
     "text": [
      "[0.99109715 0.91533438 0.69845417]\n",
      "0.8682952315241915\n"
     ]
    }
   ],
   "source": [
    "model = torch.load('rknngru_model_seed42_ep40_tl0.9094.pt')\n",
    "evaluate_model(model=model, dataset=test_dataset)"
   ]
  },
  {
   "cell_type": "code",
   "execution_count": null,
   "id": "c36df4cb-949c-432e-90a6-c9e6f7b84744",
   "metadata": {},
   "outputs": [],
   "source": []
  },
  {
   "cell_type": "code",
   "execution_count": 5,
   "id": "142e4e32-2f4e-4fc1-98b8-882b37adc83b",
   "metadata": {},
   "outputs": [
    {
     "data": {
      "application/vnd.jupyter.widget-view+json": {
       "model_id": "",
       "version_major": 2,
       "version_minor": 0
      },
      "text/plain": [
       "Step ...:   0%|          | 0/67 [00:00<?, ?it/s]"
      ]
     },
     "metadata": {},
     "output_type": "display_data"
    },
    {
     "name": "stdout",
     "output_type": "stream",
     "text": [
      "[0.99269565 0.89714649 0.69396442]\n",
      "0.8612688531202234\n"
     ]
    }
   ],
   "source": [
    "model = torch.load('mlp_model_seed42_ep81_tl0.8930.pt')\n",
    "evaluate_model(model=model, dataset=test_dataset)"
   ]
  },
  {
   "cell_type": "markdown",
   "id": "91879fa3-c245-4c2d-a389-2c3c169e2fef",
   "metadata": {},
   "source": [
    "seed 171"
   ]
  },
  {
   "cell_type": "code",
   "execution_count": 13,
   "id": "d5abf443-ce88-493f-8896-cc7f6e59d2b4",
   "metadata": {},
   "outputs": [
    {
     "data": {
      "application/vnd.jupyter.widget-view+json": {
       "model_id": "",
       "version_major": 2,
       "version_minor": 0
      },
      "text/plain": [
       "Step ...:   0%|          | 0/67 [00:00<?, ?it/s]"
      ]
     },
     "metadata": {},
     "output_type": "display_data"
    },
    {
     "name": "stdout",
     "output_type": "stream",
     "text": [
      "[0.99476636 0.91296439 0.79814588]\n",
      "0.9019588751233574\n"
     ]
    }
   ],
   "source": [
    "model = torch.load('compare/cnntrad_model_seed171_ep52_tl0.9144.pt')\n",
    "evaluate_model(model=model, dataset=test_dataset)"
   ]
  },
  {
   "cell_type": "code",
   "execution_count": 14,
   "id": "63d720d2-1870-4c09-a1cf-d21398c2bd0c",
   "metadata": {},
   "outputs": [
    {
     "data": {
      "application/vnd.jupyter.widget-view+json": {
       "model_id": "",
       "version_major": 2,
       "version_minor": 0
      },
      "text/plain": [
       "Step ...:   0%|          | 0/67 [00:00<?, ?it/s]"
      ]
     },
     "metadata": {},
     "output_type": "display_data"
    },
    {
     "name": "stdout",
     "output_type": "stream",
     "text": [
      "[0.99480319 0.92404034 0.81522386]\n",
      "0.9113557930766863\n"
     ]
    }
   ],
   "source": [
    "model = torch.load('compare/cnn_model_seed171_ep62_tl0.9092.pt')\n",
    "evaluate_model(model=model, dataset=test_dataset)"
   ]
  },
  {
   "cell_type": "markdown",
   "id": "4f9eb35a-a0cb-4356-a4fd-9ac5ac963bb3",
   "metadata": {},
   "source": [
    "seed 206"
   ]
  },
  {
   "cell_type": "code",
   "execution_count": 15,
   "id": "e1e894f1-b0ef-462a-9079-bb802e584d23",
   "metadata": {},
   "outputs": [
    {
     "data": {
      "application/vnd.jupyter.widget-view+json": {
       "model_id": "",
       "version_major": 2,
       "version_minor": 0
      },
      "text/plain": [
       "Step ...:   0%|          | 0/67 [00:00<?, ?it/s]"
      ]
     },
     "metadata": {},
     "output_type": "display_data"
    },
    {
     "name": "stdout",
     "output_type": "stream",
     "text": [
      "[0.99413277 0.90889124 0.78739754]\n",
      "0.896807184898018\n"
     ]
    }
   ],
   "source": [
    "model = torch.load('compare/cnntrad_model_seed206_ep62_tl0.9257.pt')\n",
    "evaluate_model(model=model, dataset=test_dataset)"
   ]
  },
  {
   "cell_type": "code",
   "execution_count": 25,
   "id": "fe8622dc-bee8-42af-9aae-606680b80719",
   "metadata": {},
   "outputs": [
    {
     "data": {
      "application/vnd.jupyter.widget-view+json": {
       "model_id": "",
       "version_major": 2,
       "version_minor": 0
      },
      "text/plain": [
       "Step ...:   0%|          | 0/67 [00:00<?, ?it/s]"
      ]
     },
     "metadata": {},
     "output_type": "display_data"
    },
    {
     "name": "stdout",
     "output_type": "stream",
     "text": [
      "[0.99457163 0.90835047 0.75900464]\n",
      "0.887308911821615\n"
     ]
    }
   ],
   "source": [
    "model = torch.load('compare/cnn_ftt_model_seed206_ep100_tl0.9162.pt')\n",
    "evaluate_ae_model(model=model, dataset=test_dataset)"
   ]
  },
  {
   "cell_type": "code",
   "execution_count": null,
   "id": "18d661f7-9352-432d-b1ae-98d230a27317",
   "metadata": {},
   "outputs": [],
   "source": []
  },
  {
   "cell_type": "code",
   "execution_count": null,
   "id": "5ec59836-34b8-468a-b9b6-146430c4e88b",
   "metadata": {},
   "outputs": [],
   "source": []
  },
  {
   "cell_type": "code",
   "execution_count": null,
   "id": "4c37bff3-6471-4434-9c7e-7abf951879a9",
   "metadata": {},
   "outputs": [],
   "source": []
  },
  {
   "cell_type": "code",
   "execution_count": 7,
   "id": "11f7ef9b-010e-43d9-9512-4bcf71d5553d",
   "metadata": {},
   "outputs": [
    {
     "ename": "FileNotFoundError",
     "evalue": "[Errno 2] No such file or directory: 'compare\\\\cnn_model_seed29_ep91_tl0.9329.pt'",
     "output_type": "error",
     "traceback": [
      "\u001b[0;31m---------------------------------------------------------------------------\u001b[0m",
      "\u001b[0;31mFileNotFoundError\u001b[0m                         Traceback (most recent call last)",
      "Cell \u001b[0;32mIn[7], line 1\u001b[0m\n\u001b[0;32m----> 1\u001b[0m model \u001b[38;5;241m=\u001b[39m torch\u001b[38;5;241m.\u001b[39mload(\u001b[38;5;124m'\u001b[39m\u001b[38;5;124mcompare\u001b[39m\u001b[38;5;130;01m\\\\\u001b[39;00m\u001b[38;5;124mcnn_model_seed29_ep91_tl0.9329.pt\u001b[39m\u001b[38;5;124m'\u001b[39m)\n\u001b[1;32m      2\u001b[0m evaluate_model(model\u001b[38;5;241m=\u001b[39mmodel, dataset\u001b[38;5;241m=\u001b[39mtest_dataset)\n",
      "File \u001b[0;32m~/anaconda3/lib/python3.11/site-packages/torch/serialization.py:998\u001b[0m, in \u001b[0;36mload\u001b[0;34m(f, map_location, pickle_module, weights_only, mmap, **pickle_load_args)\u001b[0m\n\u001b[1;32m    995\u001b[0m \u001b[38;5;28;01mif\u001b[39;00m \u001b[38;5;124m'\u001b[39m\u001b[38;5;124mencoding\u001b[39m\u001b[38;5;124m'\u001b[39m \u001b[38;5;129;01mnot\u001b[39;00m \u001b[38;5;129;01min\u001b[39;00m pickle_load_args\u001b[38;5;241m.\u001b[39mkeys():\n\u001b[1;32m    996\u001b[0m     pickle_load_args[\u001b[38;5;124m'\u001b[39m\u001b[38;5;124mencoding\u001b[39m\u001b[38;5;124m'\u001b[39m] \u001b[38;5;241m=\u001b[39m \u001b[38;5;124m'\u001b[39m\u001b[38;5;124mutf-8\u001b[39m\u001b[38;5;124m'\u001b[39m\n\u001b[0;32m--> 998\u001b[0m \u001b[38;5;28;01mwith\u001b[39;00m _open_file_like(f, \u001b[38;5;124m'\u001b[39m\u001b[38;5;124mrb\u001b[39m\u001b[38;5;124m'\u001b[39m) \u001b[38;5;28;01mas\u001b[39;00m opened_file:\n\u001b[1;32m    999\u001b[0m     \u001b[38;5;28;01mif\u001b[39;00m _is_zipfile(opened_file):\n\u001b[1;32m   1000\u001b[0m         \u001b[38;5;66;03m# The zipfile reader is going to advance the current file position.\u001b[39;00m\n\u001b[1;32m   1001\u001b[0m         \u001b[38;5;66;03m# If we want to actually tail call to torch.jit.load, we need to\u001b[39;00m\n\u001b[1;32m   1002\u001b[0m         \u001b[38;5;66;03m# reset back to the original position.\u001b[39;00m\n\u001b[1;32m   1003\u001b[0m         orig_position \u001b[38;5;241m=\u001b[39m opened_file\u001b[38;5;241m.\u001b[39mtell()\n",
      "File \u001b[0;32m~/anaconda3/lib/python3.11/site-packages/torch/serialization.py:445\u001b[0m, in \u001b[0;36m_open_file_like\u001b[0;34m(name_or_buffer, mode)\u001b[0m\n\u001b[1;32m    443\u001b[0m \u001b[38;5;28;01mdef\u001b[39;00m \u001b[38;5;21m_open_file_like\u001b[39m(name_or_buffer, mode):\n\u001b[1;32m    444\u001b[0m     \u001b[38;5;28;01mif\u001b[39;00m _is_path(name_or_buffer):\n\u001b[0;32m--> 445\u001b[0m         \u001b[38;5;28;01mreturn\u001b[39;00m _open_file(name_or_buffer, mode)\n\u001b[1;32m    446\u001b[0m     \u001b[38;5;28;01melse\u001b[39;00m:\n\u001b[1;32m    447\u001b[0m         \u001b[38;5;28;01mif\u001b[39;00m \u001b[38;5;124m'\u001b[39m\u001b[38;5;124mw\u001b[39m\u001b[38;5;124m'\u001b[39m \u001b[38;5;129;01min\u001b[39;00m mode:\n",
      "File \u001b[0;32m~/anaconda3/lib/python3.11/site-packages/torch/serialization.py:426\u001b[0m, in \u001b[0;36m_open_file.__init__\u001b[0;34m(self, name, mode)\u001b[0m\n\u001b[1;32m    425\u001b[0m \u001b[38;5;28;01mdef\u001b[39;00m \u001b[38;5;21m__init__\u001b[39m(\u001b[38;5;28mself\u001b[39m, name, mode):\n\u001b[0;32m--> 426\u001b[0m     \u001b[38;5;28msuper\u001b[39m()\u001b[38;5;241m.\u001b[39m\u001b[38;5;21m__init__\u001b[39m(\u001b[38;5;28mopen\u001b[39m(name, mode))\n",
      "\u001b[0;31mFileNotFoundError\u001b[0m: [Errno 2] No such file or directory: 'compare\\\\cnn_model_seed29_ep91_tl0.9329.pt'"
     ]
    }
   ],
   "source": [
    "model = torch.load('compare\\\\cnn_model_seed29_ep91_tl0.9329.pt')\n",
    "evaluate_model(model=model, dataset=test_dataset)"
   ]
  },
  {
   "cell_type": "code",
   "execution_count": 4,
   "id": "4cc695a5-11a2-46d6-87a6-7e15ce96e72a",
   "metadata": {},
   "outputs": [
    {
     "data": {
      "application/vnd.jupyter.widget-view+json": {
       "model_id": "c2bdbc48ef4f411bb2bba6e0af856d82",
       "version_major": 2,
       "version_minor": 0
      },
      "text/plain": [
       "Step ...:   0%|          | 0/4376 [00:00<?, ?it/s]"
      ]
     },
     "metadata": {},
     "output_type": "display_data"
    },
    {
     "ename": "AttributeError",
     "evalue": "'CONV_MLP' object has no attribute 'fft_fc'",
     "output_type": "error",
     "traceback": [
      "\u001b[0;31m---------------------------------------------------------------------------\u001b[0m",
      "\u001b[0;31mAttributeError\u001b[0m                            Traceback (most recent call last)",
      "Cell \u001b[0;32mIn[4], line 2\u001b[0m\n\u001b[1;32m      1\u001b[0m model \u001b[38;5;241m=\u001b[39m torch\u001b[38;5;241m.\u001b[39mload(\u001b[38;5;124m'\u001b[39m\u001b[38;5;124mcnn_model_seed29_ep100_tl0.9383.pt\u001b[39m\u001b[38;5;124m'\u001b[39m)\n\u001b[0;32m----> 2\u001b[0m evaluate_model(model\u001b[38;5;241m=\u001b[39mmodel, dataset\u001b[38;5;241m=\u001b[39mtest_dataset)\n",
      "File \u001b[0;32m~/work/projects/pqd_dataset/git/Scientific_research_osc_ML/train_model/pqd_trainer.py:163\u001b[0m, in \u001b[0;36mevaluate_model\u001b[0;34m(model, dataset, device)\u001b[0m\n\u001b[1;32m    161\u001b[0m \u001b[38;5;28;01mfor\u001b[39;00m sample, target \u001b[38;5;129;01min\u001b[39;00m tqdm(dataloader, desc\u001b[38;5;241m=\u001b[39m\u001b[38;5;124m\"\u001b[39m\u001b[38;5;124mStep ...\u001b[39m\u001b[38;5;124m\"\u001b[39m, leave\u001b[38;5;241m=\u001b[39m\u001b[38;5;28;01mFalse\u001b[39;00m):\n\u001b[1;32m    162\u001b[0m     sample \u001b[38;5;241m=\u001b[39m sample\u001b[38;5;241m.\u001b[39mto(device)\n\u001b[0;32m--> 163\u001b[0m     logits \u001b[38;5;241m=\u001b[39m model(sample)\n\u001b[1;32m    164\u001b[0m     pred \u001b[38;5;241m=\u001b[39m logits\u001b[38;5;241m.\u001b[39margmax(axis\u001b[38;5;241m=\u001b[39m\u001b[38;5;241m1\u001b[39m)\u001b[38;5;241m.\u001b[39mcpu()\n\u001b[1;32m    165\u001b[0m     true_labels\u001b[38;5;241m.\u001b[39mappend(target)\n",
      "File \u001b[0;32m~/.local/lib/python3.11/site-packages/torch/nn/modules/module.py:1532\u001b[0m, in \u001b[0;36mModule._wrapped_call_impl\u001b[0;34m(self, *args, **kwargs)\u001b[0m\n\u001b[1;32m   1530\u001b[0m     \u001b[38;5;28;01mreturn\u001b[39;00m \u001b[38;5;28mself\u001b[39m\u001b[38;5;241m.\u001b[39m_compiled_call_impl(\u001b[38;5;241m*\u001b[39margs, \u001b[38;5;241m*\u001b[39m\u001b[38;5;241m*\u001b[39mkwargs)  \u001b[38;5;66;03m# type: ignore[misc]\u001b[39;00m\n\u001b[1;32m   1531\u001b[0m \u001b[38;5;28;01melse\u001b[39;00m:\n\u001b[0;32m-> 1532\u001b[0m     \u001b[38;5;28;01mreturn\u001b[39;00m \u001b[38;5;28mself\u001b[39m\u001b[38;5;241m.\u001b[39m_call_impl(\u001b[38;5;241m*\u001b[39margs, \u001b[38;5;241m*\u001b[39m\u001b[38;5;241m*\u001b[39mkwargs)\n",
      "File \u001b[0;32m~/.local/lib/python3.11/site-packages/torch/nn/modules/module.py:1541\u001b[0m, in \u001b[0;36mModule._call_impl\u001b[0;34m(self, *args, **kwargs)\u001b[0m\n\u001b[1;32m   1536\u001b[0m \u001b[38;5;66;03m# If we don't have any hooks, we want to skip the rest of the logic in\u001b[39;00m\n\u001b[1;32m   1537\u001b[0m \u001b[38;5;66;03m# this function, and just call forward.\u001b[39;00m\n\u001b[1;32m   1538\u001b[0m \u001b[38;5;28;01mif\u001b[39;00m \u001b[38;5;129;01mnot\u001b[39;00m (\u001b[38;5;28mself\u001b[39m\u001b[38;5;241m.\u001b[39m_backward_hooks \u001b[38;5;129;01mor\u001b[39;00m \u001b[38;5;28mself\u001b[39m\u001b[38;5;241m.\u001b[39m_backward_pre_hooks \u001b[38;5;129;01mor\u001b[39;00m \u001b[38;5;28mself\u001b[39m\u001b[38;5;241m.\u001b[39m_forward_hooks \u001b[38;5;129;01mor\u001b[39;00m \u001b[38;5;28mself\u001b[39m\u001b[38;5;241m.\u001b[39m_forward_pre_hooks\n\u001b[1;32m   1539\u001b[0m         \u001b[38;5;129;01mor\u001b[39;00m _global_backward_pre_hooks \u001b[38;5;129;01mor\u001b[39;00m _global_backward_hooks\n\u001b[1;32m   1540\u001b[0m         \u001b[38;5;129;01mor\u001b[39;00m _global_forward_hooks \u001b[38;5;129;01mor\u001b[39;00m _global_forward_pre_hooks):\n\u001b[0;32m-> 1541\u001b[0m     \u001b[38;5;28;01mreturn\u001b[39;00m forward_call(\u001b[38;5;241m*\u001b[39margs, \u001b[38;5;241m*\u001b[39m\u001b[38;5;241m*\u001b[39mkwargs)\n\u001b[1;32m   1543\u001b[0m \u001b[38;5;28;01mtry\u001b[39;00m:\n\u001b[1;32m   1544\u001b[0m     result \u001b[38;5;241m=\u001b[39m \u001b[38;5;28;01mNone\u001b[39;00m\n",
      "File \u001b[0;32m~/work/projects/pqd_dataset/git/Scientific_research_osc_ML/train_model/models/conv_mlp.py:41\u001b[0m, in \u001b[0;36mCONV_MLP.forward\u001b[0;34m(self, x)\u001b[0m\n\u001b[1;32m     39\u001b[0m x \u001b[38;5;241m=\u001b[39m \u001b[38;5;28mself\u001b[39m\u001b[38;5;241m.\u001b[39menc_fc(x)\u001b[38;5;241m.\u001b[39mrelu()\n\u001b[1;32m     40\u001b[0m out \u001b[38;5;241m=\u001b[39m \u001b[38;5;28mself\u001b[39m\u001b[38;5;241m.\u001b[39mout_fc(x)\n\u001b[0;32m---> 41\u001b[0m x_fft \u001b[38;5;241m=\u001b[39m \u001b[38;5;28mself\u001b[39m\u001b[38;5;241m.\u001b[39mfft_fc(x)\n\u001b[1;32m     42\u001b[0m \u001b[38;5;28;01mreturn\u001b[39;00m out, x_fft\n",
      "File \u001b[0;32m~/.local/lib/python3.11/site-packages/torch/nn/modules/module.py:1709\u001b[0m, in \u001b[0;36mModule.__getattr__\u001b[0;34m(self, name)\u001b[0m\n\u001b[1;32m   1707\u001b[0m     \u001b[38;5;28;01mif\u001b[39;00m name \u001b[38;5;129;01min\u001b[39;00m modules:\n\u001b[1;32m   1708\u001b[0m         \u001b[38;5;28;01mreturn\u001b[39;00m modules[name]\n\u001b[0;32m-> 1709\u001b[0m \u001b[38;5;28;01mraise\u001b[39;00m \u001b[38;5;167;01mAttributeError\u001b[39;00m(\u001b[38;5;124mf\u001b[39m\u001b[38;5;124m\"\u001b[39m\u001b[38;5;124m'\u001b[39m\u001b[38;5;132;01m{\u001b[39;00m\u001b[38;5;28mtype\u001b[39m(\u001b[38;5;28mself\u001b[39m)\u001b[38;5;241m.\u001b[39m\u001b[38;5;18m__name__\u001b[39m\u001b[38;5;132;01m}\u001b[39;00m\u001b[38;5;124m'\u001b[39m\u001b[38;5;124m object has no attribute \u001b[39m\u001b[38;5;124m'\u001b[39m\u001b[38;5;132;01m{\u001b[39;00mname\u001b[38;5;132;01m}\u001b[39;00m\u001b[38;5;124m'\u001b[39m\u001b[38;5;124m\"\u001b[39m)\n",
      "\u001b[0;31mAttributeError\u001b[0m: 'CONV_MLP' object has no attribute 'fft_fc'"
     ]
    }
   ],
   "source": [
    "model = torch.load('cnn_model_seed29_ep100_tl0.9383.pt')\n",
    "evaluate_model(model=model, dataset=test_dataset)"
   ]
  },
  {
   "cell_type": "code",
   "execution_count": null,
   "id": "e49fb160-675a-454d-a5f3-a51d6daeceb3",
   "metadata": {},
   "outputs": [],
   "source": []
  },
  {
   "cell_type": "code",
   "execution_count": 4,
   "id": "e9c655de-091d-4e8e-9374-1020d905a1bb",
   "metadata": {},
   "outputs": [
    {
     "data": {
      "application/vnd.jupyter.widget-view+json": {
       "model_id": "",
       "version_major": 2,
       "version_minor": 0
      },
      "text/plain": [
       "Step ...:   0%|          | 0/4376 [00:00<?, ?it/s]"
      ]
     },
     "metadata": {},
     "output_type": "display_data"
    },
    {
     "name": "stdout",
     "output_type": "stream",
     "text": [
      "[0.99534314 0.96629213 0.82993197]\n",
      "0.9305224149584927\n"
     ]
    }
   ],
   "source": [
    "ae_model = torch.load('cnn_model_seed29_ep90_tl0.9303.pt')\n",
    "evaluate_model(model=ae_model, dataset=test_dataset)"
   ]
  },
  {
   "cell_type": "code",
   "execution_count": 6,
   "id": "080c8ac3-0fdb-409a-b575-0a7f4c2dc694",
   "metadata": {},
   "outputs": [
    {
     "data": {
      "application/vnd.jupyter.widget-view+json": {
       "model_id": "",
       "version_major": 2,
       "version_minor": 0
      },
      "text/plain": [
       "Step ...:   0%|          | 0/4376 [00:00<?, ?it/s]"
      ]
     },
     "metadata": {},
     "output_type": "display_data"
    },
    {
     "name": "stdout",
     "output_type": "stream",
     "text": [
      "[0.99644912 0.96145125 0.86111111]\n",
      "0.9396704942673911\n"
     ]
    }
   ],
   "source": [
    "ae_model = torch.load('cnn_model_seed29_ep95_tl0.9344.pt')\n",
    "evaluate_model(model=ae_model, dataset=test_dataset)"
   ]
  },
  {
   "cell_type": "code",
   "execution_count": 8,
   "id": "0ac94c8a-74d7-426d-a768-68fc7bfdf889",
   "metadata": {},
   "outputs": [
    {
     "data": {
      "application/vnd.jupyter.widget-view+json": {
       "model_id": "",
       "version_major": 2,
       "version_minor": 0
      },
      "text/plain": [
       "Step ...:   0%|          | 0/4376 [00:00<?, ?it/s]"
      ]
     },
     "metadata": {},
     "output_type": "display_data"
    },
    {
     "name": "stdout",
     "output_type": "stream",
     "text": [
      "[0.99534314 0.96179775 0.81632653]\n",
      "0.9244891402253786\n"
     ]
    }
   ],
   "source": [
    "ae_model = torch.load('cnnae_model_seed206_ep93_tl0.9335.pt')\n",
    "evaluate_ae_model(model=ae_model, dataset=test_dataset)"
   ]
  },
  {
   "cell_type": "code",
   "execution_count": null,
   "id": "f18c6960-dbf3-49c1-8f32-a76ccc6d0261",
   "metadata": {},
   "outputs": [],
   "source": [
    "ae_model = torch.load('cnnae_model_seed206_ep93_tl0.9335.pt')\n",
    "evaluate_ae_model(model=ae_model, dataset=test_dataset)"
   ]
  }
 ],
 "metadata": {
  "kernelspec": {
   "display_name": "Python 3 (ipykernel)",
   "language": "python",
   "name": "python3"
  },
  "language_info": {
   "codemirror_mode": {
    "name": "ipython",
    "version": 3
   },
   "file_extension": ".py",
   "mimetype": "text/x-python",
   "name": "python",
   "nbconvert_exporter": "python",
   "pygments_lexer": "ipython3",
   "version": "3.11.7"
  }
 },
 "nbformat": 4,
 "nbformat_minor": 5
}
