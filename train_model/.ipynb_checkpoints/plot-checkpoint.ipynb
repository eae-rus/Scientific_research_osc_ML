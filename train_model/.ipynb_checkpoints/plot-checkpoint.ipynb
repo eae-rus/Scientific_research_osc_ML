{
 "cells": [
  {
   "cell_type": "code",
   "execution_count": 1,
   "id": "c1c1d6d8-b16b-44ce-9de6-5cf38d6f52e6",
   "metadata": {},
   "outputs": [],
   "source": [
    "import pandas as pd\n",
    "import numpy as np\n",
    "from pqd_dataset import PQDDataset\n",
    "from sklearn.utils.class_weight import compute_class_weight\n",
    "import torch\n",
    "import torch.nn as nn\n",
    "from torch.utils.data import DataLoader\n",
    "from torch.optim import Adam\n",
    "from tqdm.auto import tqdm, trange\n",
    "from pqd_trainer import train_model, train_ae_model, evaluate_model, evaluate_ae_model\n",
    "from models.conv_mlp import CONV_MLP\n",
    "from models.conv_ae_mlp import CONV_AE_MLP\n",
    "from sklearn.metrics import f1_score, balanced_accuracy_score\n",
    "import random\n",
    "import os"
   ]
  },
  {
   "cell_type": "code",
   "execution_count": 2,
   "id": "7a54c6a1-5379-4a4c-a203-805d27c62e6e",
   "metadata": {},
   "outputs": [],
   "source": [
    "window_size = 32\n",
    "stride = 100\n",
    "target_mode = True\n",
    "epochs=100\n",
    "batch_size=32\n",
    "lr = 0.0005"
   ]
  },
  {
   "cell_type": "code",
   "execution_count": 3,
   "id": "0846bf7a-cd32-41bb-87a8-ba76434752e6",
   "metadata": {},
   "outputs": [
    {
     "data": {
      "application/vnd.jupyter.widget-view+json": {
       "model_id": "291da7f8c6e746dfba789ffe48685896",
       "version_major": 2,
       "version_minor": 0
      },
      "text/plain": [
       "Creating window slices:   0%|          | 0/561 [00:00<?, ?it/s]"
      ]
     },
     "metadata": {},
     "output_type": "display_data"
    }
   ],
   "source": [
    "test_df = pd.read_csv('unlabeled.csv')\n",
    "test_dataset = PQDDataset(\n",
    "                            df=test_df,\n",
    "                            window_size=window_size,\n",
    "                            stride=stride,\n",
    "                            target_mode=target_mode\n",
    "                            )"
   ]
  },
  {
   "cell_type": "code",
   "execution_count": 5,
   "id": "11f7ef9b-010e-43d9-9512-4bcf71d5553d",
   "metadata": {},
   "outputs": [
    {
     "data": {
      "application/vnd.jupyter.widget-view+json": {
       "model_id": "",
       "version_major": 2,
       "version_minor": 0
      },
      "text/plain": [
       "Step ...:   0%|          | 0/4376 [00:00<?, ?it/s]"
      ]
     },
     "metadata": {},
     "output_type": "display_data"
    },
    {
     "name": "stdout",
     "output_type": "stream",
     "text": [
      "[0.99509684 0.95111111 0.83333333]\n",
      "0.9265137606348688\n"
     ]
    }
   ],
   "source": [
    "model = torch.load('cnn_model_seed29_ep91_tl0.9329.pt')\n",
    "evaluate_model(model=model, dataset=test_dataset)"
   ]
  },
  {
   "cell_type": "code",
   "execution_count": 4,
   "id": "4cc695a5-11a2-46d6-87a6-7e15ce96e72a",
   "metadata": {},
   "outputs": [
    {
     "data": {
      "application/vnd.jupyter.widget-view+json": {
       "model_id": "",
       "version_major": 2,
       "version_minor": 0
      },
      "text/plain": [
       "Step ...:   0%|          | 0/4376 [00:00<?, ?it/s]"
      ]
     },
     "metadata": {},
     "output_type": "display_data"
    },
    {
     "name": "stdout",
     "output_type": "stream",
     "text": [
      "[0.99571446 0.9638009  0.83916084]\n",
      "0.9328920682574916\n"
     ]
    }
   ],
   "source": [
    "model = torch.load('cnn_model_seed29_ep100_tl0.9383.pt')\n",
    "evaluate_model(model=model, dataset=test_dataset)"
   ]
  },
  {
   "cell_type": "code",
   "execution_count": null,
   "id": "e49fb160-675a-454d-a5f3-a51d6daeceb3",
   "metadata": {},
   "outputs": [],
   "source": []
  },
  {
   "cell_type": "code",
   "execution_count": 13,
   "id": "e9c655de-091d-4e8e-9374-1020d905a1bb",
   "metadata": {},
   "outputs": [
    {
     "data": {
      "application/vnd.jupyter.widget-view+json": {
       "model_id": "",
       "version_major": 2,
       "version_minor": 0
      },
      "text/plain": [
       "Step ...:   0%|          | 0/4376 [00:00<?, ?it/s]"
      ]
     },
     "metadata": {},
     "output_type": "display_data"
    },
    {
     "name": "stdout",
     "output_type": "stream",
     "text": [
      "[0.99571236 0.96396396 0.84137931]\n",
      "0.9218339523692726\n"
     ]
    }
   ],
   "source": [
    "ae_model = torch.load('cnnae_model_seed29_ep93_tl0.9245.pt')\n",
    "evaluate_ae_model(model=ae_model, dataset=test_dataset)"
   ]
  },
  {
   "cell_type": "code",
   "execution_count": 7,
   "id": "080c8ac3-0fdb-409a-b575-0a7f4c2dc694",
   "metadata": {},
   "outputs": [
    {
     "data": {
      "application/vnd.jupyter.widget-view+json": {
       "model_id": "",
       "version_major": 2,
       "version_minor": 0
      },
      "text/plain": [
       "Step ...:   0%|          | 0/4376 [00:00<?, ?it/s]"
      ]
     },
     "metadata": {},
     "output_type": "display_data"
    },
    {
     "name": "stdout",
     "output_type": "stream",
     "text": [
      "[0.99447921 0.95132743 0.83221477]\n",
      "0.9260071345781702\n"
     ]
    }
   ],
   "source": [
    "ae_model = torch.load('cnnae_model_seed29_ep99_tl0.9282.pt')\n",
    "evaluate_ae_model(model=ae_model, dataset=test_dataset)"
   ]
  },
  {
   "cell_type": "code",
   "execution_count": 8,
   "id": "0ac94c8a-74d7-426d-a768-68fc7bfdf889",
   "metadata": {},
   "outputs": [
    {
     "data": {
      "application/vnd.jupyter.widget-view+json": {
       "model_id": "",
       "version_major": 2,
       "version_minor": 0
      },
      "text/plain": [
       "Step ...:   0%|          | 0/4376 [00:00<?, ?it/s]"
      ]
     },
     "metadata": {},
     "output_type": "display_data"
    },
    {
     "name": "stdout",
     "output_type": "stream",
     "text": [
      "[0.99534314 0.96179775 0.81632653]\n",
      "0.9244891402253786\n"
     ]
    }
   ],
   "source": [
    "ae_model = torch.load('cnnae_model_seed206_ep93_tl0.9335.pt')\n",
    "evaluate_ae_model(model=ae_model, dataset=test_dataset)"
   ]
  },
  {
   "cell_type": "code",
   "execution_count": null,
   "id": "f18c6960-dbf3-49c1-8f32-a76ccc6d0261",
   "metadata": {},
   "outputs": [],
   "source": []
  }
 ],
 "metadata": {
  "kernelspec": {
   "display_name": "Python 3 (ipykernel)",
   "language": "python",
   "name": "python3"
  },
  "language_info": {
   "codemirror_mode": {
    "name": "ipython",
    "version": 3
   },
   "file_extension": ".py",
   "mimetype": "text/x-python",
   "name": "python",
   "nbconvert_exporter": "python",
   "pygments_lexer": "ipython3",
   "version": "3.11.7"
  }
 },
 "nbformat": 4,
 "nbformat_minor": 5
}
