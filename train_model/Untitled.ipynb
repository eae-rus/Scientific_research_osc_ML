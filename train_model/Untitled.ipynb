{
 "cells": [
  {
   "cell_type": "code",
   "execution_count": 16,
   "id": "adc2ac3b-005c-4ec4-888c-1fe9bfeba650",
   "metadata": {},
   "outputs": [],
   "source": [
    "import pandas as pd\n",
    "import numpy as np\n",
    "from pqd_dataset import PQDDataset\n",
    "from sklearn.utils.class_weight import compute_class_weight\n",
    "import torch\n",
    "import torch.nn as nn\n",
    "from torch.utils.data import DataLoader\n",
    "from torch.optim import Adam\n",
    "from tqdm.auto import tqdm, trange\n",
    "from pqd_trainer import train_model, train_ae_model, evaluate_model, evaluate_ae_model, evaluate_npu_model\n",
    "from models.conv_mlp import CONV_MLP\n",
    "from models.conv_ae_mlp import CONV_AE_MLP\n",
    "from sklearn.metrics import f1_score, balanced_accuracy_score\n",
    "import random\n",
    "import os"
   ]
  },
  {
   "cell_type": "code",
   "execution_count": 17,
   "id": "c48c2164-01cd-4f4b-8eb3-b5d0a53640bf",
   "metadata": {},
   "outputs": [],
   "source": [
    "window_size = 32\n",
    "stride = 1\n",
    "target_mode = True\n",
    "epochs=100\n",
    "batch_size=32\n",
    "lr = 0.0005"
   ]
  },
  {
   "cell_type": "code",
   "execution_count": 13,
   "id": "8eb02700-6966-4d2d-ab92-2388cca7f17f",
   "metadata": {},
   "outputs": [
    {
     "name": "stderr",
     "output_type": "stream",
     "text": [
      "/tmp/ipykernel_23766/1012981628.py:3: SettingWithCopyWarning: \n",
      "A value is trying to be set on a copy of a slice from a DataFrame\n",
      "\n",
      "See the caveats in the documentation: https://pandas.pydata.org/pandas-docs/stable/user_guide/indexing.html#returning-a-view-versus-a-copy\n",
      "  test_df['target'][test_df['abnorm_evnt'] == 1] = 1\n",
      "/tmp/ipykernel_23766/1012981628.py:4: SettingWithCopyWarning: \n",
      "A value is trying to be set on a copy of a slice from a DataFrame\n",
      "\n",
      "See the caveats in the documentation: https://pandas.pydata.org/pandas-docs/stable/user_guide/indexing.html#returning-a-view-versus-a-copy\n",
      "  test_df['target'][test_df['emerg_evnt'] == 1] = 2\n"
     ]
    }
   ],
   "source": [
    "test_df = pd.read_csv('unlabeled.csv')\n",
    "test_df['target'] = 0\n",
    "test_df['target'][test_df['abnorm_evnt'] == 1] = 1\n",
    "test_df['target'][test_df['emerg_evnt'] == 1] = 2"
   ]
  },
  {
   "cell_type": "code",
   "execution_count": 19,
   "id": "1b5520bc-bcf3-4fbb-a9ed-f307fc1fa9a8",
   "metadata": {},
   "outputs": [],
   "source": [
    "model = torch.load('compare/2dcnn.pt')"
   ]
  },
  {
   "cell_type": "code",
   "execution_count": 27,
   "id": "0411ddf3-f74d-4e3f-bcac-7b470fac8411",
   "metadata": {},
   "outputs": [],
   "source": [
    "ids = test_df.file_name.unique()"
   ]
  },
  {
   "cell_type": "code",
   "execution_count": 28,
   "id": "3bd41092-d9cc-40ac-9401-ace7072d4677",
   "metadata": {},
   "outputs": [
    {
     "data": {
      "application/vnd.jupyter.widget-view+json": {
       "model_id": "886dec68938a46c18915e6c7fbcdbeed",
       "version_major": 2,
       "version_minor": 0
      },
      "text/plain": [
       "Creating window slices:   0%|          | 0/495 [00:00<?, ?it/s]"
      ]
     },
     "metadata": {},
     "output_type": "display_data"
    }
   ],
   "source": [
    "end_indices = []\n",
    "for osc_id in tqdm(ids, desc=\"Creating window slices\"):\n",
    "    indices = np.array(test_df.index[test_df.file_name == osc_id])\n",
    "    indices = indices[window_size:: stride]\n",
    "    end_indices.extend(indices)"
   ]
  },
  {
   "cell_type": "code",
   "execution_count": 30,
   "id": "33e982c1-ff0c-498a-abfe-c7461bbfbc43",
   "metadata": {},
   "outputs": [],
   "source": [
    "test_df['pred'] = 0"
   ]
  },
  {
   "cell_type": "code",
   "execution_count": 46,
   "id": "c49552b3-1292-4b63-b47b-f7fd9dff77ab",
   "metadata": {},
   "outputs": [
    {
     "data": {
      "application/vnd.jupyter.widget-view+json": {
       "model_id": "c266e2dae6b14f7eafb91287eb0d7d39",
       "version_major": 2,
       "version_minor": 0
      },
      "text/plain": [
       "Creating window slices:   0%|          | 0/330392 [00:00<?, ?it/s]"
      ]
     },
     "metadata": {},
     "output_type": "display_data"
    }
   ],
   "source": [
    "x_cols = ['IA', 'IC', 'UA BB', 'UB BB', 'UC BB']\n",
    "model.eval()\n",
    "for idx in tqdm(end_indices, desc=\"Creating window slices\"):\n",
    "    sample = test_df[x_cols].values[idx - window_size: idx]\n",
    "    sample = torch.from_numpy(sample.astype(\"float32\"))\n",
    "    sample = sample.unsqueeze(0)\n",
    "    sample = sample.permute(0, 2, 1)\n",
    "    sample = sample.unsqueeze(2)\n",
    "    pred = model(sample).argmax(axis=1)\n",
    "    test_df['pred'].loc[idx] = pred.numpy()"
   ]
  },
  {
   "cell_type": "code",
   "execution_count": 48,
   "id": "0d537021-7d1c-4dca-911c-3a4a6080b343",
   "metadata": {},
   "outputs": [],
   "source": [
    "from sklearn.metrics import f1_score, balanced_accuracy_score"
   ]
  },
  {
   "cell_type": "code",
   "execution_count": 79,
   "id": "a76e570e-fe93-4ca6-aab5-24653d8a5a01",
   "metadata": {},
   "outputs": [
    {
     "name": "stdout",
     "output_type": "stream",
     "text": [
      "file name:  0a4b53ee7134924f78336875854d74cd_Bus 2 _event N1\n",
      "[0 1 2]\n",
      "[1 2 0]\n",
      "file name:  263035661c1e77f3a9afe26699cd8ddd_Bus 2 _event N1\n",
      "[0 2]\n",
      "[0 2]\n",
      "file name:  3651d9f2468d63f4b8de9ed9502a9c32_Bus 2 _event N1\n",
      "[0 2 1]\n",
      "[0 1 2]\n",
      "file name:  4e6415cbb51d616cafbfe48ad0949709_Bus 2 _event N1\n",
      "[0 1 2]\n",
      "[0 2]\n",
      "file name:  524e846b63557e667fc44b3e8bcb5c8e_Bus 1 _event N1\n",
      "[0 1 2]\n",
      "[0 1 2]\n",
      "file name:  524e846b63557e667fc44b3e8bcb5c8e_Bus 2 _event N1\n",
      "[0 1 2]\n",
      "[0 1 2]\n",
      "file name:  61d08f6e61a9a4c44c716291ffb1a344_Bus 1 _event N1\n",
      "[0]\n",
      "[0 2]\n",
      "file name:  61d08f6e61a9a4c44c716291ffb1a344_Bus 2 _event N1\n",
      "[0 2]\n",
      "[0 2]\n",
      "file name:  855cfbb204abac136d3eb81a79e6de7d_Bus 1 _event N1\n",
      "[0 1 2]\n",
      "[1 2 0]\n",
      "file name:  9349e7fc3aa633178fad634964c17b72_Bus 2 _event N1\n",
      "[0 2]\n",
      "[0 2]\n",
      "file name:  aee4ab364963f1ef162f5bc577b1392c_Bus 1 _event N1\n",
      "[0 1 2]\n",
      "[0 1 2]\n",
      "file name:  b18370f148f4f1c08ac3f3e494c4ed14_Bus 1 _event N1\n",
      "[0]\n",
      "[0 2]\n",
      "file name:  b18370f148f4f1c08ac3f3e494c4ed14_Bus 2 _event N1\n",
      "[0 2]\n",
      "[0 2]\n",
      "file name:  b418af421e4007a2b8a5d6fd668a9ed7_Bus 1 _event N1\n",
      "[0]\n",
      "[0 2]\n",
      "file name:  b418af421e4007a2b8a5d6fd668a9ed7_Bus 2 _event N1\n",
      "[0 2]\n",
      "[0 2]\n",
      "file name:  b700c5c625f7c4d3c78faf197b7542a4_Bus 1 _event N1\n",
      "[0 1 2]\n",
      "[1 2 0]\n",
      "file name:  be95ead6f4af317725b64b6ed763d8de_Bus 1 _event N1\n",
      "[0 1 2]\n",
      "[1 2 0]\n",
      "file name:  c3d44586ef7c8a0c6ea2085493f8fd38_Bus 1 _event N1\n",
      "[0 1 2]\n",
      "[0 1 2]\n",
      "file name:  cc91716e4364558af446ef2194c7e6a6_Bus 1 _event N1\n",
      "[0 1 2]\n",
      "[0 2]\n",
      "file name:  d07ee2f2a6eb569ed1d1ae9bd5238313_Bus 1 _event N1\n",
      "[0 1 2]\n",
      "[1 2 0]\n",
      "file name:  f485a6a1394c86706cc8429df36d7fb3_Bus 1 _event N1\n",
      "[0 1 2]\n",
      "[0 1 2]\n",
      "file name:  f5a8f60b2f11d9f34796b536635a98a5_Bus 1 _event N1\n",
      "[0 1 2]\n",
      "[0 1 2]\n"
     ]
    }
   ],
   "source": [
    "fault_files = []\n",
    "for id in ids:\n",
    "    pr = test_df.pred[test_df['file_name'] == id].unique()\n",
    "    tg = test_df.target[test_df['file_name'] == id].unique()\n",
    "    if 2 in set(tg):\n",
    "        print('file name: ', id)\n",
    "        print(pr)\n",
    "        print(tg)\n",
    "        fault_files.append(id)"
   ]
  },
  {
   "cell_type": "code",
   "execution_count": 107,
   "id": "4959648d-c4d5-4d41-b644-45bee2df0986",
   "metadata": {},
   "outputs": [
    {
     "data": {
      "text/plain": [
       "<Axes: >"
      ]
     },
     "execution_count": 107,
     "metadata": {},
     "output_type": "execute_result"
    },
    {
     "data": {
      "image/png": "[encoded data removed]",
      "text/plain": [
       "<Figure size 640x480 with 1 Axes>"
      ]
     },
     "metadata": {},
     "output_type": "display_data"
    }
   ],
   "source": [
    "i = 9\n",
    "test_df.target[test_df['file_name'] == fault_files[i]].plot()\n",
    "test_df.pred[test_df['file_name'] == fault_files[i]].plot()"
   ]
  },
  {
   "cell_type": "code",
   "execution_count": null,
   "id": "f6c00dc9-e89d-4fbc-8d1e-d9440b3d90fe",
   "metadata": {},
   "outputs": [],
   "source": []
  },
  {
   "cell_type": "code",
   "execution_count": null,
   "id": "85ed9424-e554-4a78-9797-e7f8042e299f",
   "metadata": {},
   "outputs": [],
   "source": []
  }
 ],
 "metadata": {
  "kernelspec": {
   "display_name": "Python 3 (ipykernel)",
   "language": "python",
   "name": "python3"
  },
  "language_info": {
   "codemirror_mode": {
    "name": "ipython",
    "version": 3
   },
   "file_extension": ".py",
   "mimetype": "text/x-python",
   "name": "python",
   "nbconvert_exporter": "python",
   "pygments_lexer": "ipython3",
   "version": "3.11.7"
  }
 },
 "nbformat": 4,
 "nbformat_minor": 5
}
